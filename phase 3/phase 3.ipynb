{
 "cells": [
  {
   "cell_type": "markdown",
   "id": "666ff713",
   "metadata": {},
   "source": [
    "## Phase 3- SQL operations"
   ]
  },
  {
   "cell_type": "code",
   "execution_count": 13,
   "id": "4d4e399b",
   "metadata": {},
   "outputs": [],
   "source": [
    "import sqlite3\n",
    "import csv\n",
    "import pandas as pd"
   ]
  },
  {
   "cell_type": "code",
   "execution_count": 3,
   "id": "9b64fb42",
   "metadata": {},
   "outputs": [],
   "source": [
    "db=sqlite3.connect(\"crime_database\")"
   ]
  },
  {
   "cell_type": "code",
   "execution_count": 4,
   "id": "c174dc16",
   "metadata": {},
   "outputs": [],
   "source": [
    "cursor=db.cursor()"
   ]
  },
  {
   "cell_type": "code",
   "execution_count": 5,
   "id": "15326653",
   "metadata": {},
   "outputs": [],
   "source": [
    "cursor.execute(\"CREATE TABLE crime_against_women (state UT TEXT,DISTRICT TEXT,Year INT,Rape INT,Kindanpping INT,Dowry Deaths INT,Assault INT,Insult  INT,Cruelty by Husband  INT,Importation of Girls INT) \")\n",
    "db.commit()"
   ]
  },
  {
   "cell_type": "markdown",
   "id": "b30be25e",
   "metadata": {},
   "source": [
    "### 3.1\tInsert records from 42_District_wise_crimes_committed_against_women_2001_2012.csv into a table"
   ]
  },
  {
   "cell_type": "code",
   "execution_count": null,
   "id": "6ffc1b62",
   "metadata": {},
   "outputs": [],
   "source": [
    "with open('42_District_wise_crimes_committed_against_women_2001_2012.csv','r') as file :\n",
    "    #here r is read as\n",
    "    no_records=0\n",
    "    for row in file:\n",
    "        cursor.execute(\"INSERT INTO crimes_against_women VALUES(?,?,?,?,?,?,?,?,?,?)\",row.split(\",\"))#it will split the data row.split\n",
    "        db.commit()\n",
    "        no_records += 1\n",
    "    \n"
   ]
  },
  {
   "cell_type": "code",
   "execution_count": 14,
   "id": "7768f052",
   "metadata": {},
   "outputs": [
    {
     "name": "stdout",
     "output_type": "stream",
     "text": [
      "9017 Records Inserted\n"
     ]
    }
   ],
   "source": [
    "\n",
    "print(no_records,'Records Inserted')"
   ]
  },
  {
   "cell_type": "markdown",
   "id": "18770ed5",
   "metadata": {},
   "source": [
    "### 3.2\tWrite SQL query to find the highest number of rapes & Kidnappings that happened in which state, District, and year\n",
    "\n"
   ]
  },
  {
   "cell_type": "code",
   "execution_count": 119,
   "id": "83ad666d",
   "metadata": {},
   "outputs": [
    {
     "name": "stdout",
     "output_type": "stream",
     "text": [
      "('WEST BENGAL', 'MURSHIDABAD', 2011, 433, 492)\n",
      "('WEST BENGAL', 'MURSHIDABAD', 2012, 257, 464)\n",
      "('WEST BENGAL', 'MURSHIDABAD', 2010, 526, 441)\n",
      "('DELHI', 'NORTH-WEST', 2005, 236, 349)\n",
      "('WEST BENGAL', 'MURSHIDABAD', 2009, 568, 342)\n",
      "('UTTAR PRADESH', 'LUCKNOW', 2008, 334, 331)\n",
      "('DELHI', 'NORTH WEST', 2001, 145, 298)\n",
      "('DELHI', 'NORTH-WEST', 2006, 224, 287)\n",
      "('DELHI', 'NORTH WEST', 2002, 159, 259)\n",
      "('DELHI', 'OUTER', 2007, 369, 237)\n",
      "('ASSAM', 'GUWAHATI CITY', 2004, 197, 228)\n",
      "('DELHI', 'NORTH WEST', 2003, 137, 191)\n"
     ]
    }
   ],
   "source": [
    "result=cursor.execute(\"SELECT  state UT, DISTRICT ,Year ,MAX(Rape), MAX(Kindanpping) FROM crimes_against_women WHERE NOT DISTRICT='TOTAL' AND NOT DISTRICT='DELHI UT TOTAL' GROUP BY Year ORDER BY Kindanpping DESC\")\n",
    "for row in result:\n",
    "    print(row)"
   ]
  },
  {
   "cell_type": "markdown",
   "id": "6233c05d",
   "metadata": {},
   "source": [
    "__The state, district and year  with district with Highest Rape and Kidnapping i.e MURSHIDABAD District in WEST BENGAL in year 2011 with 568 rape and 492 Kidnapping cases__"
   ]
  },
  {
   "cell_type": "markdown",
   "id": "9c298c60",
   "metadata": {},
   "source": [
    "### 3.3 Write SQL query to find All the lowest number of rapes & Kidnappings that happened in which state, District, and year"
   ]
  },
  {
   "cell_type": "code",
   "execution_count": 122,
   "id": "497e1b07",
   "metadata": {},
   "outputs": [
    {
     "name": "stdout",
     "output_type": "stream",
     "text": [
      "('A & N ISLANDS', 'NICOBAR', 2001, 0, 0)\n",
      "('ANDHRA PRADESH', 'GUNTAKAL RLY.', 2001, 0, 0)\n",
      "('ARUNACHAL PRADESH', 'TAWANG', 2001, 0, 0)\n",
      "('ASSAM', 'C.I.D.', 2001, 0, 0)\n",
      "('BIHAR', 'ARWAL', 2001, 0, 0)\n",
      "('CHHATTISGARH', 'BIZAPUR', 2001, 0, 0)\n",
      "('DAMAN & DIU', 'DIU', 2001, 0, 0)\n",
      "('DELHI', 'S.T.F.', 2001, 0, 0)\n",
      "('GUJARAT', 'W.RLY', 2001, 0, 0)\n",
      "('HARYANA', 'GRP', 2002, 0, 0)\n",
      "('HIMACHAL PRADESH', 'G.R.P.', 2001, 0, 0)\n",
      "('JAMMU & KASHMIR', 'CRIME JAMMU', 2001, 0, 0)\n",
      "('JHARKHAND', 'DEOGHAR', 2001, 0, 0)\n",
      "('KARNATAKA', 'CHITRADURGA', 2001, 0, 0)\n",
      "('KERALA', 'CBCID', 2001, 0, 0)\n",
      "('LAKSHADWEEP', 'LAKSHADWEEP', 2001, 0, 0)\n",
      "('MADHYA PRADESH', 'INDORE RLY.', 2001, 0, 0)\n",
      "('MAHARASHTRA', 'MUMBAI RLY.', 2001, 0, 0)\n",
      "('MANIPUR', 'CHURACHANDPUR', 2001, 0, 0)\n",
      "('MEGHALAYA', 'GARO HILLS EAST', 2001, 0, 0)\n",
      "('MIZORAM', 'AIZAWL', 2001, 0, 0)\n",
      "('NAGALAND', 'KIPHIRE', 2001, 0, 0)\n",
      "('ODISHA', 'RAYAGADA', 2001, 0, 0)\n",
      "('PUDUCHERRY', 'KARAIKAL', 2011, 0, 0)\n",
      "('PUNJAB', 'G.R.P', 2001, 0, 0)\n",
      "('RAJASTHAN', 'G.R.P.', 2003, 0, 0)\n",
      "('SIKKIM', 'NORTH', 2001, 0, 0)\n",
      "('TAMIL NADU', 'CHENNAI', 2001, 0, 0)\n",
      "('TRIPURA', 'DHALAI', 2001, 0, 0)\n",
      "('UTTAR PRADESH', 'MAHARAJGANJ', 2002, 0, 0)\n",
      "('UTTARAKHAND', 'NAINITAL', 2001, 0, 0)\n",
      "('WEST BENGAL', 'ASANSOL', 2001, 0, 0)\n",
      "('GOA', 'NORTH GOA', 2001, 3, 1)\n",
      "('D & N HAVELI', 'D and N HAVELI', 2001, 1, 2)\n",
      "('CHANDIGARH', 'CHANDIGARH', 2003, 18, 28)\n"
     ]
    }
   ],
   "source": [
    "result=cursor.execute(\"SELECT  state UT, DISTRICT ,Year ,MIN(Rape), MIN(Kindanpping) FROM crimes_against_women WHERE NOT DISTRICT='TOTAL' AND NOT DISTRICT='DELHI UT TOTAL' GROUP BY UT ORDER BY Kindanpping\")\n",
    "for row in result:\n",
    "    print(row)\n"
   ]
  },
  {
   "cell_type": "markdown",
   "id": "f594e4ef",
   "metadata": {},
   "source": [
    "__All the above result showing Minimum of Rape And KIdnapping in each state And year.__\n",
    "\n",
    "### 3.4\tInsert records from 02_District_wise_crimes_committed_against_ST_2001_2012.csv into a new table"
   ]
  },
  {
   "cell_type": "code",
   "execution_count": null,
   "id": "daf91681",
   "metadata": {},
   "outputs": [],
   "source": [
    "cursor.execute(\"CREATE TABLE crime_against_st (state UT TEXT,DISTRICT TEXT,Year INT,Murder INT,Rape INT,Kidanpping INT,Dacoity INT,Robbery INT,Arson  INT,Hurt INT,PCR INT,POA INT,Other Crimes INT) \")\n",
    "db.commit()"
   ]
  },
  {
   "cell_type": "code",
   "execution_count": 14,
   "id": "f1c2c2f3",
   "metadata": {},
   "outputs": [],
   "source": [
    "with open('02_District_wise_crimes_committed_against_ST_2001_2012.csv','r') as file :\n",
    "    #here r is read as\n",
    "    no_records=0\n",
    "    for row in file:\n",
    "        cursor.execute(\"INSERT INTO crime_against_st VALUES(?,?,?,?,?,?,?,?,?,?,?,?,?)\",row.split(\",\"))#it will split the data row.split\n",
    "        db.commit()\n",
    "        no_records += 1"
   ]
  },
  {
   "cell_type": "code",
   "execution_count": 15,
   "id": "eb607532",
   "metadata": {},
   "outputs": [
    {
     "name": "stdout",
     "output_type": "stream",
     "text": [
      "9018 Records Inserted\n"
     ]
    }
   ],
   "source": [
    "\n",
    "print(no_records,'Records Inserted')"
   ]
  },
  {
   "cell_type": "markdown",
   "id": "726da0ba",
   "metadata": {},
   "source": [
    "### 3.5 Write SQL query to find the highest number of dacoity/robbery in which district."
   ]
  },
  {
   "cell_type": "code",
   "execution_count": 21,
   "id": "1f616947",
   "metadata": {},
   "outputs": [
    {
     "name": "stdout",
     "output_type": "stream",
     "text": [
      "('GUJARAT', 'DAHOD', 2001, 29, 32)\n"
     ]
    }
   ],
   "source": [
    "result=cursor.execute(\"SELECT State UT,DISTRICT ,Year, MAX(Dacoity), MAX(Robbery) FROM crime_against_st WHERE NOT DISTRICT ='TOTAL'  \")\n",
    "for row in result:\n",
    "    print(row)"
   ]
  },
  {
   "cell_type": "markdown",
   "id": "7f7816c5",
   "metadata": {},
   "source": [
    "__Dahod District of Gujarat has highest number of Daocity and Robbery in Year 2001__\n",
    "\n",
    "### 3.6\tWrite SQL query to find in which districts(All) the lowest number of murders happened"
   ]
  },
  {
   "cell_type": "code",
   "execution_count": 130,
   "id": "12d4c434",
   "metadata": {},
   "outputs": [
    {
     "name": "stdout",
     "output_type": "stream",
     "text": [
      "('A & N ISLANDS', 'ANDAMAN', 0)\n",
      "('ANDHRA PRADESH', 'ADILABAD', 0)\n",
      "('ARUNACHAL PRADESH', 'CHANGLANG', 0)\n",
      "('ASSAM', 'BARPETA', 0)\n",
      "('BIHAR', 'ARWAL', 0)\n",
      "('CHANDIGARH', 'CHANDIGARH', 0)\n",
      "('CHHATTISGARH', 'BALRAMPUR', 0)\n",
      "('D & N HAVELI', 'D and N HAVELI', 0)\n",
      "('DAMAN & DIU', 'DAMAN', 0)\n",
      "('DELHI', 'CENTRAL', 0)\n",
      "('GOA', 'NORTH GOA', 0)\n",
      "('GUJARAT', 'AHMEDABAD COMMR.', 0)\n",
      "('HARYANA', 'AMBALA', 0)\n",
      "('HIMACHAL PRADESH', 'BILASPUR', 0)\n",
      "('JAMMU & KASHMIR', 'ANANTNAG', 0)\n",
      "('JHARKHAND', 'BOKARO', 0)\n",
      "('KARNATAKA', 'BAGALKOT', 0)\n",
      "('KERALA', 'ALAPUZHA', 0)\n",
      "('LAKSHADWEEP', 'LAKSHADWEEP', 0)\n",
      "('MADHYA PRADESH', 'BETUL', 0)\n",
      "('MAHARASHTRA', 'AKOLA', 0)\n",
      "('MANIPUR', 'BISHNUPUR', 0)\n",
      "('MEGHALAYA', 'GARO HILLS EAST', 0)\n",
      "('MIZORAM', 'AIZAWL', 0)\n",
      "('NAGALAND', 'DIMAPUR', 0)\n",
      "('ODISHA', 'ANGUL', 0)\n",
      "('PUDUCHERRY', 'PONDICHERRY', 0)\n",
      "('PUNJAB', 'AMRITSAR', 0)\n",
      "('RAJASTHAN', 'AJMER', 0)\n",
      "('SIKKIM', 'NORTH', 0)\n",
      "('TAMIL NADU', 'ARIYALUR', 0)\n",
      "('TRIPURA', 'DHALAI', 0)\n",
      "('UTTAR PRADESH', 'AGRA', 0)\n",
      "('UTTARAKHAND', 'ALMORA', 0)\n",
      "('WEST BENGAL', '24 PARGANAS NORTH', 0)\n"
     ]
    }
   ],
   "source": [
    "result=cursor.execute(\"SELECT State UT,DISTRICT, Murder FROM crime_against_st WHERE Murder=(SELECT MIN(Murder) FROM crime_against_st) GROUP BY state \")\n",
    "for row in result:\n",
    "    print(row)"
   ]
  },
  {
   "cell_type": "markdown",
   "id": "c9799b8e",
   "metadata": {},
   "source": [
    "__The Above result of query shows the minimum number of Murdrs happened in eah Ditsrict__\n",
    "\n",
    "### 3.7 Write SQL query to find the number of murders in ascending order in district and yearwise."
   ]
  },
  {
   "cell_type": "code",
   "execution_count": 134,
   "id": "22645bae",
   "metadata": {},
   "outputs": [
    {
     "name": "stdout",
     "output_type": "stream",
     "text": [
      "('A & N ISLANDS', 'ANDAMAN', 2001, 0)\n",
      "('ANDHRA PRADESH', 'ADILABAD', 2001, 0)\n",
      "('ARUNACHAL PRADESH', 'CHANGLANG', 2001, 0)\n",
      "('ASSAM', 'BARPETA', 2001, 0)\n",
      "('CHANDIGARH', 'CHANDIGARH', 2001, 0)\n",
      "('CHHATTISGARH', 'BALRAMPUR', 2001, 0)\n",
      "('D & N HAVELI', 'D and N HAVELI', 2001, 0)\n",
      "('DAMAN & DIU', 'DAMAN', 2001, 0)\n",
      "('DELHI', 'CENTRAL', 2001, 0)\n",
      "('GOA', 'NORTH GOA', 2001, 0)\n",
      "('GUJARAT', 'AHMEDABAD COMMR.', 2001, 0)\n",
      "('HARYANA', 'AMBALA', 2001, 0)\n",
      "('HIMACHAL PRADESH', 'BILASPUR', 2001, 0)\n",
      "('JAMMU & KASHMIR', 'ANANTNAG', 2001, 0)\n",
      "('JHARKHAND', 'BOKARO', 2001, 0)\n",
      "('KARNATAKA', 'BAGALKOT', 2001, 0)\n",
      "('KERALA', 'ALAPUZHA', 2001, 0)\n",
      "('LAKSHADWEEP', 'LAKSHADWEEP', 2001, 0)\n",
      "('MANIPUR', 'BISHNUPUR', 2001, 0)\n",
      "('MEGHALAYA', 'GARO HILLS EAST', 2001, 0)\n",
      "('MIZORAM', 'AIZAWL', 2001, 0)\n",
      "('NAGALAND', 'DIMAPUR', 2001, 0)\n",
      "('ODISHA', 'ANGUL', 2001, 0)\n",
      "('PUDUCHERRY', 'PONDICHERRY', 2001, 0)\n",
      "('PUNJAB', 'AMRITSAR', 2001, 0)\n",
      "('RAJASTHAN', 'AJMER', 2001, 0)\n",
      "('TAMIL NADU', 'ARIYALUR', 2001, 0)\n",
      "('TRIPURA', 'DHALAI', 2001, 0)\n",
      "('UTTAR PRADESH', 'AGRA', 2001, 0)\n",
      "('UTTARAKHAND', 'ALMORA', 2001, 0)\n",
      "('WEST BENGAL', '24 PARGANAS NORTH', 2001, 0)\n",
      "('BIHAR', 'ARARIA', 2001, 1)\n",
      "('MADHYA PRADESH', 'BALAGHAT', 2001, 1)\n",
      "('MAHARASHTRA', 'AHMEDNAGAR', 2001, 1)\n",
      "('SIKKIM', 'EAST', 2001, 4)\n"
     ]
    }
   ],
   "source": [
    "result=cursor.execute(\"SELECT  state, DISTRICT, Year,Murder FROM crime_against_st GROUP BY state ORDER BY Murder  \")\n",
    "for row in result:\n",
    "    print(row)"
   ]
  },
  {
   "cell_type": "markdown",
   "id": "f57e0ed4",
   "metadata": {},
   "source": [
    "__District ,Year and Murders in Ascending orders__\n",
    "\n",
    "### 3.8.1Insert records of STATE/UT, DISTRICT, YEAR, MURDER, ATTEMPT TO MURDER, and RAPE columns only from 01_District_wise_crimes_committed_IPC_2001_2012.csv into a new table"
   ]
  },
  {
   "cell_type": "code",
   "execution_count": 18,
   "id": "46351317",
   "metadata": {},
   "outputs": [],
   "source": [
    "import pandas as pd\n"
   ]
  },
  {
   "cell_type": "code",
   "execution_count": 78,
   "id": "5182b16f",
   "metadata": {},
   "outputs": [
    {
     "data": {
      "text/plain": [
       "<sqlite3.Cursor at 0x1c69e1ad260>"
      ]
     },
     "execution_count": 78,
     "metadata": {},
     "output_type": "execute_result"
    }
   ],
   "source": [
    "cursor.execute (\"CREATE TABLE crime_ipc(STATE UT TEXT,DISTRICT TEXT,YEAR INT, MURDER INT,ATTEMPT_to_MURDER INT,RAPE INT) \")"
   ]
  },
  {
   "cell_type": "code",
   "execution_count": 79,
   "id": "356a07e5",
   "metadata": {},
   "outputs": [],
   "source": [
    "\n",
    "db.commit()"
   ]
  },
  {
   "cell_type": "code",
   "execution_count": 80,
   "id": "4238b65a",
   "metadata": {},
   "outputs": [],
   "source": [
    "with open('01_District_wise_crimes_committed_IPC_2001_2012.csv','r') as file :\n",
    "    #here r is read as\n",
    "    no_records=0\n",
    "    for row in file:\n",
    "        cursor.execute(\"INSERT INTO crime_ipc VALUES(?,?,?,?,?,?)\",row.split(\",\"))#it will split the data row.split\n",
    "        db.commit()\n",
    "        no_records += 1"
   ]
  },
  {
   "cell_type": "code",
   "execution_count": 81,
   "id": "c39c9314",
   "metadata": {},
   "outputs": [
    {
     "name": "stdout",
     "output_type": "stream",
     "text": [
      "9017 Records Inserted\n"
     ]
    }
   ],
   "source": [
    "print(no_records,'Records Inserted')"
   ]
  },
  {
   "cell_type": "markdown",
   "id": "32165af9",
   "metadata": {},
   "source": [
    "### 3.8.2 Write SQL query to find which District in each state/ut has the highest number of murders yearwise. Your output should show STATE/UT, YEAR, DISTRICT, and MURDERS."
   ]
  },
  {
   "cell_type": "code",
   "execution_count": 32,
   "id": "f0d06e03",
   "metadata": {},
   "outputs": [
    {
     "name": "stdout",
     "output_type": "stream",
     "text": [
      "('BIHAR', 2004, 'PATNA', 542)\n",
      "('UTTAR PRADESH', 2001, 'MUZAFFARNAGAR', 324)\n",
      "('MAHARASHTRA', 2001, 'MUMBAI', 295)\n",
      "('JHARKHAND', 2002, 'RANCHI', 270)\n",
      "('WEST BENGAL', 2010, 'PASCHIM MIDNAPUR', 268)\n",
      "('KARNATAKA', 2010, 'BANGALORE COMMR.', 266)\n",
      "('GUJARAT', 2002, 'AHMEDABAD COMMR.', 222)\n",
      "('ANDHRA PRADESH', 2001, 'RANGA REDDY', 214)\n",
      "('TAMIL NADU', 2012, 'CHENNAI', 180)\n",
      "('JAMMU & KASHMIR', 2001, 'BARAMULLA', 144)\n",
      "('ASSAM', 2007, 'TINSUKIA', 143)\n",
      "('MADHYA PRADESH', 2004, 'JHABUA', 139)\n",
      "('CHHATTISGARH', 2006, 'BIZAPUR', 139)\n",
      "('TRIPURA', 2003, 'WEST', 136)\n",
      "('DELHI UT', 2002, 'NORTH WEST', 135)\n",
      "('ODISHA', 2009, 'KEONJHAR', 109)\n",
      "('RAJASTHAN', 2011, 'ALWAR', 104)\n",
      "('UTTARAKHAND', 2001, 'HARIDWAR', 94)\n",
      "('HARYANA', 2006, 'GURGAON', 93)\n",
      "('PUNJAB', 2010, 'CP LUDHIANA', 90)\n",
      "('NAGALAND', 2008, 'DIMAPUR', 64)\n",
      "('MANIPUR', 2007, 'IMPHAL WEST', 61)\n",
      "('KERALA', 2002, 'TRIVANDRUM', 58)\n",
      "('MEGHALAYA', 2003, 'JAINTIA HILLS', 52)\n",
      "('HIMACHAL PRADESH', 2003, 'KANGRA', 38)\n",
      "('GOA', 2009, 'NORTH GOA', 33)\n",
      "('PUDUCHERRY', 2011, 'PUDUCHERRY', 32)\n",
      "('CHANDIGARH', 2002, 'CHANDIGARH', 31)\n",
      "('MIZORAM', 2010, 'AIZAWL', 23)\n",
      "('ARUNACHAL PRADESH', 2007, 'LOHIT', 17)\n",
      "('A & N ISLANDS', 2003, 'ANDAMAN', 16)\n",
      "('D & N HAVELI', 2011, 'D and N HAVELI', 14)\n",
      "('SIKKIM', 2001, 'EAST', 13)\n",
      "('DAMAN & DIU', 2007, 'DAMAN', 12)\n",
      "('LAKSHADWEEP', 2001, 'LAKSHADWEEP', 1)\n"
     ]
    }
   ],
   "source": [
    "result=cursor.execute(\"SELECT  state UT, Year,DISTRICT ,MAX(MURDER) FROM crime_ipc women WHERE NOT DISTRICT='TOTAL' AND NOT DISTRICT='DELHI UT TOTAL' GROUP BY UT ORDER BY MURDER DESC\")\n",
    "for row in result:\n",
    "    print(row)"
   ]
  },
  {
   "cell_type": "code",
   "execution_count": 33,
   "id": "d51736ce",
   "metadata": {},
   "outputs": [],
   "source": [
    "dfsql=pd.read_sql(\"SELECT  state UT, Year,DISTRICT ,MAX(MURDER) AS Murder FROM crime_ipc women WHERE NOT DISTRICT='TOTAL' AND NOT DISTRICT='DELHI UT TOTAL' GROUP BY UT ORDER BY MURDER DESC \",db)"
   ]
  },
  {
   "cell_type": "code",
   "execution_count": 34,
   "id": "c5a0767a",
   "metadata": {},
   "outputs": [
    {
     "data": {
      "text/html": [
       "<div>\n",
       "<style scoped>\n",
       "    .dataframe tbody tr th:only-of-type {\n",
       "        vertical-align: middle;\n",
       "    }\n",
       "\n",
       "    .dataframe tbody tr th {\n",
       "        vertical-align: top;\n",
       "    }\n",
       "\n",
       "    .dataframe thead th {\n",
       "        text-align: right;\n",
       "    }\n",
       "</style>\n",
       "<table border=\"1\" class=\"dataframe\">\n",
       "  <thead>\n",
       "    <tr style=\"text-align: right;\">\n",
       "      <th></th>\n",
       "      <th>UT</th>\n",
       "      <th>YEAR</th>\n",
       "      <th>DISTRICT</th>\n",
       "      <th>Murder</th>\n",
       "    </tr>\n",
       "  </thead>\n",
       "  <tbody>\n",
       "    <tr>\n",
       "      <th>0</th>\n",
       "      <td>BIHAR</td>\n",
       "      <td>2004</td>\n",
       "      <td>PATNA</td>\n",
       "      <td>542</td>\n",
       "    </tr>\n",
       "    <tr>\n",
       "      <th>1</th>\n",
       "      <td>UTTAR PRADESH</td>\n",
       "      <td>2001</td>\n",
       "      <td>MUZAFFARNAGAR</td>\n",
       "      <td>324</td>\n",
       "    </tr>\n",
       "    <tr>\n",
       "      <th>2</th>\n",
       "      <td>MAHARASHTRA</td>\n",
       "      <td>2001</td>\n",
       "      <td>MUMBAI</td>\n",
       "      <td>295</td>\n",
       "    </tr>\n",
       "    <tr>\n",
       "      <th>3</th>\n",
       "      <td>JHARKHAND</td>\n",
       "      <td>2002</td>\n",
       "      <td>RANCHI</td>\n",
       "      <td>270</td>\n",
       "    </tr>\n",
       "    <tr>\n",
       "      <th>4</th>\n",
       "      <td>WEST BENGAL</td>\n",
       "      <td>2010</td>\n",
       "      <td>PASCHIM MIDNAPUR</td>\n",
       "      <td>268</td>\n",
       "    </tr>\n",
       "    <tr>\n",
       "      <th>5</th>\n",
       "      <td>KARNATAKA</td>\n",
       "      <td>2010</td>\n",
       "      <td>BANGALORE COMMR.</td>\n",
       "      <td>266</td>\n",
       "    </tr>\n",
       "    <tr>\n",
       "      <th>6</th>\n",
       "      <td>GUJARAT</td>\n",
       "      <td>2002</td>\n",
       "      <td>AHMEDABAD COMMR.</td>\n",
       "      <td>222</td>\n",
       "    </tr>\n",
       "    <tr>\n",
       "      <th>7</th>\n",
       "      <td>ANDHRA PRADESH</td>\n",
       "      <td>2001</td>\n",
       "      <td>RANGA REDDY</td>\n",
       "      <td>214</td>\n",
       "    </tr>\n",
       "    <tr>\n",
       "      <th>8</th>\n",
       "      <td>TAMIL NADU</td>\n",
       "      <td>2012</td>\n",
       "      <td>CHENNAI</td>\n",
       "      <td>180</td>\n",
       "    </tr>\n",
       "    <tr>\n",
       "      <th>9</th>\n",
       "      <td>JAMMU &amp; KASHMIR</td>\n",
       "      <td>2001</td>\n",
       "      <td>BARAMULLA</td>\n",
       "      <td>144</td>\n",
       "    </tr>\n",
       "    <tr>\n",
       "      <th>10</th>\n",
       "      <td>ASSAM</td>\n",
       "      <td>2007</td>\n",
       "      <td>TINSUKIA</td>\n",
       "      <td>143</td>\n",
       "    </tr>\n",
       "    <tr>\n",
       "      <th>11</th>\n",
       "      <td>MADHYA PRADESH</td>\n",
       "      <td>2004</td>\n",
       "      <td>JHABUA</td>\n",
       "      <td>139</td>\n",
       "    </tr>\n",
       "    <tr>\n",
       "      <th>12</th>\n",
       "      <td>CHHATTISGARH</td>\n",
       "      <td>2006</td>\n",
       "      <td>BIZAPUR</td>\n",
       "      <td>139</td>\n",
       "    </tr>\n",
       "    <tr>\n",
       "      <th>13</th>\n",
       "      <td>TRIPURA</td>\n",
       "      <td>2003</td>\n",
       "      <td>WEST</td>\n",
       "      <td>136</td>\n",
       "    </tr>\n",
       "    <tr>\n",
       "      <th>14</th>\n",
       "      <td>DELHI UT</td>\n",
       "      <td>2002</td>\n",
       "      <td>NORTH WEST</td>\n",
       "      <td>135</td>\n",
       "    </tr>\n",
       "    <tr>\n",
       "      <th>15</th>\n",
       "      <td>ODISHA</td>\n",
       "      <td>2009</td>\n",
       "      <td>KEONJHAR</td>\n",
       "      <td>109</td>\n",
       "    </tr>\n",
       "    <tr>\n",
       "      <th>16</th>\n",
       "      <td>RAJASTHAN</td>\n",
       "      <td>2011</td>\n",
       "      <td>ALWAR</td>\n",
       "      <td>104</td>\n",
       "    </tr>\n",
       "    <tr>\n",
       "      <th>17</th>\n",
       "      <td>UTTARAKHAND</td>\n",
       "      <td>2001</td>\n",
       "      <td>HARIDWAR</td>\n",
       "      <td>94</td>\n",
       "    </tr>\n",
       "    <tr>\n",
       "      <th>18</th>\n",
       "      <td>HARYANA</td>\n",
       "      <td>2006</td>\n",
       "      <td>GURGAON</td>\n",
       "      <td>93</td>\n",
       "    </tr>\n",
       "    <tr>\n",
       "      <th>19</th>\n",
       "      <td>PUNJAB</td>\n",
       "      <td>2010</td>\n",
       "      <td>CP LUDHIANA</td>\n",
       "      <td>90</td>\n",
       "    </tr>\n",
       "    <tr>\n",
       "      <th>20</th>\n",
       "      <td>NAGALAND</td>\n",
       "      <td>2008</td>\n",
       "      <td>DIMAPUR</td>\n",
       "      <td>64</td>\n",
       "    </tr>\n",
       "    <tr>\n",
       "      <th>21</th>\n",
       "      <td>MANIPUR</td>\n",
       "      <td>2007</td>\n",
       "      <td>IMPHAL WEST</td>\n",
       "      <td>61</td>\n",
       "    </tr>\n",
       "    <tr>\n",
       "      <th>22</th>\n",
       "      <td>KERALA</td>\n",
       "      <td>2002</td>\n",
       "      <td>TRIVANDRUM</td>\n",
       "      <td>58</td>\n",
       "    </tr>\n",
       "    <tr>\n",
       "      <th>23</th>\n",
       "      <td>MEGHALAYA</td>\n",
       "      <td>2003</td>\n",
       "      <td>JAINTIA HILLS</td>\n",
       "      <td>52</td>\n",
       "    </tr>\n",
       "    <tr>\n",
       "      <th>24</th>\n",
       "      <td>HIMACHAL PRADESH</td>\n",
       "      <td>2003</td>\n",
       "      <td>KANGRA</td>\n",
       "      <td>38</td>\n",
       "    </tr>\n",
       "    <tr>\n",
       "      <th>25</th>\n",
       "      <td>GOA</td>\n",
       "      <td>2009</td>\n",
       "      <td>NORTH GOA</td>\n",
       "      <td>33</td>\n",
       "    </tr>\n",
       "    <tr>\n",
       "      <th>26</th>\n",
       "      <td>PUDUCHERRY</td>\n",
       "      <td>2011</td>\n",
       "      <td>PUDUCHERRY</td>\n",
       "      <td>32</td>\n",
       "    </tr>\n",
       "    <tr>\n",
       "      <th>27</th>\n",
       "      <td>CHANDIGARH</td>\n",
       "      <td>2002</td>\n",
       "      <td>CHANDIGARH</td>\n",
       "      <td>31</td>\n",
       "    </tr>\n",
       "    <tr>\n",
       "      <th>28</th>\n",
       "      <td>MIZORAM</td>\n",
       "      <td>2010</td>\n",
       "      <td>AIZAWL</td>\n",
       "      <td>23</td>\n",
       "    </tr>\n",
       "    <tr>\n",
       "      <th>29</th>\n",
       "      <td>ARUNACHAL PRADESH</td>\n",
       "      <td>2007</td>\n",
       "      <td>LOHIT</td>\n",
       "      <td>17</td>\n",
       "    </tr>\n",
       "    <tr>\n",
       "      <th>30</th>\n",
       "      <td>A &amp; N ISLANDS</td>\n",
       "      <td>2003</td>\n",
       "      <td>ANDAMAN</td>\n",
       "      <td>16</td>\n",
       "    </tr>\n",
       "    <tr>\n",
       "      <th>31</th>\n",
       "      <td>D &amp; N HAVELI</td>\n",
       "      <td>2011</td>\n",
       "      <td>D and N HAVELI</td>\n",
       "      <td>14</td>\n",
       "    </tr>\n",
       "    <tr>\n",
       "      <th>32</th>\n",
       "      <td>SIKKIM</td>\n",
       "      <td>2001</td>\n",
       "      <td>EAST</td>\n",
       "      <td>13</td>\n",
       "    </tr>\n",
       "    <tr>\n",
       "      <th>33</th>\n",
       "      <td>DAMAN &amp; DIU</td>\n",
       "      <td>2007</td>\n",
       "      <td>DAMAN</td>\n",
       "      <td>12</td>\n",
       "    </tr>\n",
       "    <tr>\n",
       "      <th>34</th>\n",
       "      <td>LAKSHADWEEP</td>\n",
       "      <td>2001</td>\n",
       "      <td>LAKSHADWEEP</td>\n",
       "      <td>1</td>\n",
       "    </tr>\n",
       "  </tbody>\n",
       "</table>\n",
       "</div>"
      ],
      "text/plain": [
       "                   UT  YEAR          DISTRICT  Murder\n",
       "0               BIHAR  2004             PATNA     542\n",
       "1       UTTAR PRADESH  2001     MUZAFFARNAGAR     324\n",
       "2         MAHARASHTRA  2001            MUMBAI     295\n",
       "3           JHARKHAND  2002            RANCHI     270\n",
       "4         WEST BENGAL  2010  PASCHIM MIDNAPUR     268\n",
       "5           KARNATAKA  2010  BANGALORE COMMR.     266\n",
       "6             GUJARAT  2002  AHMEDABAD COMMR.     222\n",
       "7      ANDHRA PRADESH  2001       RANGA REDDY     214\n",
       "8          TAMIL NADU  2012           CHENNAI     180\n",
       "9     JAMMU & KASHMIR  2001         BARAMULLA     144\n",
       "10              ASSAM  2007          TINSUKIA     143\n",
       "11     MADHYA PRADESH  2004            JHABUA     139\n",
       "12       CHHATTISGARH  2006           BIZAPUR     139\n",
       "13            TRIPURA  2003              WEST     136\n",
       "14           DELHI UT  2002        NORTH WEST     135\n",
       "15             ODISHA  2009          KEONJHAR     109\n",
       "16          RAJASTHAN  2011             ALWAR     104\n",
       "17        UTTARAKHAND  2001          HARIDWAR      94\n",
       "18            HARYANA  2006           GURGAON      93\n",
       "19             PUNJAB  2010       CP LUDHIANA      90\n",
       "20           NAGALAND  2008           DIMAPUR      64\n",
       "21            MANIPUR  2007       IMPHAL WEST      61\n",
       "22             KERALA  2002        TRIVANDRUM      58\n",
       "23          MEGHALAYA  2003     JAINTIA HILLS      52\n",
       "24   HIMACHAL PRADESH  2003            KANGRA      38\n",
       "25                GOA  2009         NORTH GOA      33\n",
       "26         PUDUCHERRY  2011        PUDUCHERRY      32\n",
       "27         CHANDIGARH  2002        CHANDIGARH      31\n",
       "28            MIZORAM  2010            AIZAWL      23\n",
       "29  ARUNACHAL PRADESH  2007             LOHIT      17\n",
       "30      A & N ISLANDS  2003           ANDAMAN      16\n",
       "31       D & N HAVELI  2011    D and N HAVELI      14\n",
       "32             SIKKIM  2001              EAST      13\n",
       "33        DAMAN & DIU  2007             DAMAN      12\n",
       "34        LAKSHADWEEP  2001       LAKSHADWEEP       1"
      ]
     },
     "execution_count": 34,
     "metadata": {},
     "output_type": "execute_result"
    }
   ],
   "source": [
    "#converting into dataframe\n",
    "dfsql"
   ]
  },
  {
   "cell_type": "markdown",
   "id": "28ee79f4",
   "metadata": {},
   "source": [
    "\n",
    "### 3.8.3\tStore the above data (the result of 3.2) in DataFrame and analyze districts that appear 3 or more than 3 years and print the corresponding state/ut, district, murders, and year in descending order."
   ]
  },
  {
   "cell_type": "code",
   "execution_count": 31,
   "id": "54f80120",
   "metadata": {},
   "outputs": [
    {
     "name": "stdout",
     "output_type": "stream",
     "text": [
      "('WEST BENGAL', 'MURSHIDABAD', 2011, 433, 492)\n",
      "('WEST BENGAL', 'MURSHIDABAD', 2012, 257, 464)\n",
      "('WEST BENGAL', 'MURSHIDABAD', 2010, 526, 441)\n",
      "('DELHI', 'NORTH-WEST', 2005, 236, 349)\n",
      "('WEST BENGAL', 'MURSHIDABAD', 2009, 568, 342)\n",
      "('UTTAR PRADESH', 'LUCKNOW', 2008, 334, 331)\n",
      "('DELHI', 'NORTH WEST', 2001, 145, 298)\n",
      "('DELHI', 'NORTH-WEST', 2006, 224, 287)\n",
      "('DELHI', 'NORTH WEST', 2002, 159, 259)\n",
      "('DELHI', 'OUTER', 2007, 369, 237)\n",
      "('ASSAM', 'GUWAHATI CITY', 2004, 197, 228)\n",
      "('DELHI', 'NORTH WEST', 2003, 137, 191)\n"
     ]
    }
   ],
   "source": [
    "#.3.2 Write SQL query to find the highest number of rapes & Kidnappings that happened in which state, District, and year\n",
    "data=cursor.execute(\"SELECT  state UT, DISTRICT ,Year ,MAX(Rape), MAX(Kindanpping) FROM crimes_against_women WHERE NOT DISTRICT='TOTAL' AND NOT DISTRICT='DELHI UT TOTAL' GROUP BY Year ORDER BY Kindanpping DESC\")\n",
    "for row in data:\n",
    "    print(row)"
   ]
  },
  {
   "cell_type": "markdown",
   "id": "cfddf401",
   "metadata": {},
   "source": [
    "### Converting into DataFrame"
   ]
  },
  {
   "cell_type": "code",
   "execution_count": 80,
   "id": "1ac36cbc",
   "metadata": {},
   "outputs": [],
   "source": [
    "\n",
    "dataframe=pd.read_sql(\"SELECT  state UT, DISTRICT ,Year ,MAX(Rape) AS Rape, MAX(Kindanpping) AS Kidnapping FROM crimes_against_women WHERE NOT DISTRICT='TOTAL' AND NOT DISTRICT='DELHI UT TOTAL' GROUP BY Year ORDER BY Kindanpping DESC\",db)"
   ]
  },
  {
   "cell_type": "code",
   "execution_count": 81,
   "id": "9a38956f",
   "metadata": {},
   "outputs": [
    {
     "data": {
      "text/html": [
       "<div>\n",
       "<style scoped>\n",
       "    .dataframe tbody tr th:only-of-type {\n",
       "        vertical-align: middle;\n",
       "    }\n",
       "\n",
       "    .dataframe tbody tr th {\n",
       "        vertical-align: top;\n",
       "    }\n",
       "\n",
       "    .dataframe thead th {\n",
       "        text-align: right;\n",
       "    }\n",
       "</style>\n",
       "<table border=\"1\" class=\"dataframe\">\n",
       "  <thead>\n",
       "    <tr style=\"text-align: right;\">\n",
       "      <th></th>\n",
       "      <th>UT</th>\n",
       "      <th>DISTRICT</th>\n",
       "      <th>Year</th>\n",
       "      <th>Rape</th>\n",
       "      <th>Kidnapping</th>\n",
       "    </tr>\n",
       "  </thead>\n",
       "  <tbody>\n",
       "    <tr>\n",
       "      <th>0</th>\n",
       "      <td>WEST BENGAL</td>\n",
       "      <td>MURSHIDABAD</td>\n",
       "      <td>2011</td>\n",
       "      <td>433</td>\n",
       "      <td>492</td>\n",
       "    </tr>\n",
       "    <tr>\n",
       "      <th>1</th>\n",
       "      <td>WEST BENGAL</td>\n",
       "      <td>MURSHIDABAD</td>\n",
       "      <td>2012</td>\n",
       "      <td>257</td>\n",
       "      <td>464</td>\n",
       "    </tr>\n",
       "    <tr>\n",
       "      <th>2</th>\n",
       "      <td>WEST BENGAL</td>\n",
       "      <td>MURSHIDABAD</td>\n",
       "      <td>2010</td>\n",
       "      <td>526</td>\n",
       "      <td>441</td>\n",
       "    </tr>\n",
       "    <tr>\n",
       "      <th>3</th>\n",
       "      <td>DELHI</td>\n",
       "      <td>NORTH-WEST</td>\n",
       "      <td>2005</td>\n",
       "      <td>236</td>\n",
       "      <td>349</td>\n",
       "    </tr>\n",
       "    <tr>\n",
       "      <th>4</th>\n",
       "      <td>WEST BENGAL</td>\n",
       "      <td>MURSHIDABAD</td>\n",
       "      <td>2009</td>\n",
       "      <td>568</td>\n",
       "      <td>342</td>\n",
       "    </tr>\n",
       "    <tr>\n",
       "      <th>5</th>\n",
       "      <td>UTTAR PRADESH</td>\n",
       "      <td>LUCKNOW</td>\n",
       "      <td>2008</td>\n",
       "      <td>334</td>\n",
       "      <td>331</td>\n",
       "    </tr>\n",
       "    <tr>\n",
       "      <th>6</th>\n",
       "      <td>DELHI</td>\n",
       "      <td>NORTH WEST</td>\n",
       "      <td>2001</td>\n",
       "      <td>145</td>\n",
       "      <td>298</td>\n",
       "    </tr>\n",
       "    <tr>\n",
       "      <th>7</th>\n",
       "      <td>DELHI</td>\n",
       "      <td>NORTH-WEST</td>\n",
       "      <td>2006</td>\n",
       "      <td>224</td>\n",
       "      <td>287</td>\n",
       "    </tr>\n",
       "    <tr>\n",
       "      <th>8</th>\n",
       "      <td>DELHI</td>\n",
       "      <td>NORTH WEST</td>\n",
       "      <td>2002</td>\n",
       "      <td>159</td>\n",
       "      <td>259</td>\n",
       "    </tr>\n",
       "    <tr>\n",
       "      <th>9</th>\n",
       "      <td>DELHI</td>\n",
       "      <td>OUTER</td>\n",
       "      <td>2007</td>\n",
       "      <td>369</td>\n",
       "      <td>237</td>\n",
       "    </tr>\n",
       "    <tr>\n",
       "      <th>10</th>\n",
       "      <td>ASSAM</td>\n",
       "      <td>GUWAHATI CITY</td>\n",
       "      <td>2004</td>\n",
       "      <td>197</td>\n",
       "      <td>228</td>\n",
       "    </tr>\n",
       "    <tr>\n",
       "      <th>11</th>\n",
       "      <td>DELHI</td>\n",
       "      <td>NORTH WEST</td>\n",
       "      <td>2003</td>\n",
       "      <td>137</td>\n",
       "      <td>191</td>\n",
       "    </tr>\n",
       "  </tbody>\n",
       "</table>\n",
       "</div>"
      ],
      "text/plain": [
       "               UT       DISTRICT  Year  Rape  Kidnapping\n",
       "0     WEST BENGAL    MURSHIDABAD  2011   433         492\n",
       "1     WEST BENGAL    MURSHIDABAD  2012   257         464\n",
       "2     WEST BENGAL    MURSHIDABAD  2010   526         441\n",
       "3           DELHI     NORTH-WEST  2005   236         349\n",
       "4     WEST BENGAL    MURSHIDABAD  2009   568         342\n",
       "5   UTTAR PRADESH        LUCKNOW  2008   334         331\n",
       "6           DELHI     NORTH WEST  2001   145         298\n",
       "7           DELHI     NORTH-WEST  2006   224         287\n",
       "8           DELHI     NORTH WEST  2002   159         259\n",
       "9           DELHI          OUTER  2007   369         237\n",
       "10          ASSAM  GUWAHATI CITY  2004   197         228\n",
       "11          DELHI     NORTH WEST  2003   137         191"
      ]
     },
     "execution_count": 81,
     "metadata": {},
     "output_type": "execute_result"
    }
   ],
   "source": [
    "dataframe"
   ]
  },
  {
   "cell_type": "code",
   "execution_count": 82,
   "id": "84b961ea",
   "metadata": {},
   "outputs": [
    {
     "data": {
      "text/plain": [
       "MURSHIDABAD      4\n",
       "NORTH WEST       3\n",
       "NORTH-WEST       2\n",
       "LUCKNOW          1\n",
       "OUTER            1\n",
       "GUWAHATI CITY    1\n",
       "Name: DISTRICT, dtype: int64"
      ]
     },
     "execution_count": 82,
     "metadata": {},
     "output_type": "execute_result"
    }
   ],
   "source": [
    "dataframe['DISTRICT'].value_counts()"
   ]
  },
  {
   "cell_type": "markdown",
   "id": "d29ce168",
   "metadata": {},
   "source": [
    "__From above We can Clearly see that Murshidabad is the state which appreared more than three years.__"
   ]
  },
  {
   "cell_type": "code",
   "execution_count": 36,
   "id": "5938cb15",
   "metadata": {},
   "outputs": [],
   "source": [
    "from sqlalchemy import create_engine"
   ]
  },
  {
   "cell_type": "code",
   "execution_count": 37,
   "id": "65a4b4c1",
   "metadata": {},
   "outputs": [],
   "source": [
    "engine = create_engine(\"sqlite+pysqlite:///:memory:\")"
   ]
  },
  {
   "cell_type": "code",
   "execution_count": 38,
   "id": "afaad9da",
   "metadata": {},
   "outputs": [
    {
     "data": {
      "text/plain": [
       "12"
      ]
     },
     "execution_count": 38,
     "metadata": {},
     "output_type": "execute_result"
    }
   ],
   "source": [
    "dataframe.to_sql('district_data', engine)"
   ]
  },
  {
   "cell_type": "code",
   "execution_count": 40,
   "id": "9beaa194",
   "metadata": {},
   "outputs": [],
   "source": [
    "from sqlalchemy import text"
   ]
  },
  {
   "cell_type": "markdown",
   "id": "74c42fbc",
   "metadata": {},
   "source": [
    "### Analyze districts that appear 3 or more than 3 years and print the corresponding state/ut, district, murders, and year in descending order."
   ]
  },
  {
   "cell_type": "code",
   "execution_count": 100,
   "id": "047ceb1e",
   "metadata": {},
   "outputs": [
    {
     "name": "stdout",
     "output_type": "stream",
     "text": [
      "('WEST BENGAL', 'MURSHIDABAD', 2011)\n",
      "('WEST BENGAL', 'MURSHIDABAD', 2012)\n",
      "('WEST BENGAL', 'MURSHIDABAD', 2010)\n"
     ]
    }
   ],
   "source": [
    "with engine.connect() as conn:\n",
    "    result = conn.execute(text(\"select UT, DISTRICT ,Year FROM district_data ORDER BY UT DESC LIMIT 3\"))\n",
    "    for row in result:\n",
    "        print(row)"
   ]
  },
  {
   "cell_type": "markdown",
   "id": "362cbc2a",
   "metadata": {},
   "source": [
    "__From Above result West Bengal, Murshidabas is the District which appeared more than 3 times  year wise__"
   ]
  },
  {
   "cell_type": "markdown",
   "id": "52824e13",
   "metadata": {},
   "source": [
    "##  3.8.4 Use appropriate graphs to show your data (the result of 3.8.3)"
   ]
  },
  {
   "cell_type": "code",
   "execution_count": 104,
   "id": "d069cb4a",
   "metadata": {},
   "outputs": [],
   "source": [
    "import matplotlib.pyplot as plt\n",
    "import seaborn as sns"
   ]
  },
  {
   "cell_type": "code",
   "execution_count": 114,
   "id": "5db0c433",
   "metadata": {},
   "outputs": [
    {
     "data": {
      "image/png": "[encoded data removed]",
      "text/plain": [
       "<Figure size 432x288 with 1 Axes>"
      ]
     },
     "metadata": {
      "needs_background": "light"
     },
     "output_type": "display_data"
    }
   ],
   "source": [
    "\n",
    "plt.figure(figsize=(6,4))\n",
    "sns.barplot(x=dataframe['DISTRICT'], y=dataframe['Rape'])\n",
    "plt.xticks(rotation='90')\n",
    "plt.show()"
   ]
  },
  {
   "cell_type": "markdown",
   "id": "8ec33dce",
   "metadata": {},
   "source": [
    "__From Above BarPlot its clear that  Murshidabas is the Ditsrict of West Bengal which has highest cases of Rape and Guwahati City District of Assam has lowest cases of Rape as per the dataframe\n",
    "\n",
    "### Anlaysis of  District vs Kidnapping"
   ]
  },
  {
   "cell_type": "code",
   "execution_count": 115,
   "id": "fbff288a",
   "metadata": {},
   "outputs": [
    {
     "data": {
      "image/png": "[encoded data removed]",
      "text/plain": [
       "<Figure size 432x288 with 1 Axes>"
      ]
     },
     "metadata": {
      "needs_background": "light"
     },
     "output_type": "display_data"
    }
   ],
   "source": [
    "plt.figure(figsize=(6,4))\n",
    "sns.barplot(x=dataframe['DISTRICT'], y=dataframe['Kidnapping'])\n",
    "plt.xticks(rotation='90')\n",
    "plt.show()"
   ]
  },
  {
   "cell_type": "markdown",
   "id": "62a81a6d",
   "metadata": {},
   "source": [
    "__Again Murshidabad District of West Bengal has highest cases of Kidnapping and Guwahati City Ditrict Assam has Lowest Kidnapping cases as per the resulted Dataframe__"
   ]
  },
  {
   "cell_type": "code",
   "execution_count": null,
   "id": "98ab34ef",
   "metadata": {},
   "outputs": [],
   "source": []
  }
 ],
 "metadata": {
  "kernelspec": {
   "display_name": "Python 3 (ipykernel)",
   "language": "python",
   "name": "python3"
  },
  "language_info": {
   "codemirror_mode": {
    "name": "ipython",
    "version": 3
   },
   "file_extension": ".py",
   "mimetype": "text/x-python",
   "name": "python",
   "nbconvert_exporter": "python",
   "pygments_lexer": "ipython3",
   "version": "3.9.12"
  }
 },
 "nbformat": 4,
 "nbformat_minor": 5
}
